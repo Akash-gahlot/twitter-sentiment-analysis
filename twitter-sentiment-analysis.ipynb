{
 "cells": [
  {
   "cell_type": "code",
   "execution_count": 27,
   "metadata": {},
   "outputs": [],
   "source": [
    "!pip install jovian tweepy pandas matplotlib --upgrade --quiet"
   ]
  },
  {
   "cell_type": "code",
   "execution_count": 2,
   "metadata": {},
   "outputs": [
    {
     "name": "stdout",
     "output_type": "stream",
     "text": [
      "Collecting nltk\n",
      "  Downloading nltk-3.5.zip (1.4 MB)\n",
      "\u001b[K     |████████████████████████████████| 1.4 MB 4.7 MB/s eta 0:00:01\n",
      "\u001b[?25hRequirement already satisfied: click in /opt/conda/lib/python3.8/site-packages (from nltk) (7.1.2)\n",
      "Requirement already satisfied: joblib in /opt/conda/lib/python3.8/site-packages (from nltk) (0.17.0)\n",
      "Collecting regex\n",
      "  Downloading regex-2020.11.13-cp38-cp38-manylinux2014_x86_64.whl (738 kB)\n",
      "\u001b[K     |████████████████████████████████| 738 kB 33.6 MB/s eta 0:00:01\n",
      "\u001b[?25hRequirement already satisfied: tqdm in /opt/conda/lib/python3.8/site-packages (from nltk) (4.50.2)\n",
      "Building wheels for collected packages: nltk\n",
      "  Building wheel for nltk (setup.py) ... \u001b[?25ldone\n",
      "\u001b[?25h  Created wheel for nltk: filename=nltk-3.5-py3-none-any.whl size=1434676 sha256=000618000b1b376da6a02f7a31d992308cd3ba741c36bf745614d1cc5faa2a90\n",
      "  Stored in directory: /home/jovyan/.cache/pip/wheels/ff/d5/7b/f1fb4e1e1603b2f01c2424dd60fbcc50c12ef918bafc44b155\n",
      "Successfully built nltk\n",
      "Installing collected packages: regex, nltk\n",
      "Successfully installed nltk-3.5 regex-2020.11.13\n",
      "Note: you may need to restart the kernel to use updated packages.\n"
     ]
    }
   ],
   "source": [
    "pip install nltk"
   ]
  },
  {
   "cell_type": "code",
   "execution_count": 3,
   "metadata": {},
   "outputs": [
    {
     "name": "stdout",
     "output_type": "stream",
     "text": [
      "Collecting textblob\n",
      "  Downloading textblob-0.15.3-py2.py3-none-any.whl (636 kB)\n",
      "\u001b[K     |████████████████████████████████| 636 kB 4.8 MB/s eta 0:00:01\n",
      "\u001b[?25hRequirement already satisfied: nltk>=3.1 in /opt/conda/lib/python3.8/site-packages (from textblob) (3.5)\n",
      "Requirement already satisfied: regex in /opt/conda/lib/python3.8/site-packages (from nltk>=3.1->textblob) (2020.11.13)\n",
      "Requirement already satisfied: click in /opt/conda/lib/python3.8/site-packages (from nltk>=3.1->textblob) (7.1.2)\n",
      "Requirement already satisfied: joblib in /opt/conda/lib/python3.8/site-packages (from nltk>=3.1->textblob) (0.17.0)\n",
      "Requirement already satisfied: tqdm in /opt/conda/lib/python3.8/site-packages (from nltk>=3.1->textblob) (4.50.2)\n",
      "Installing collected packages: textblob\n",
      "Successfully installed textblob-0.15.3\n",
      "Note: you may need to restart the kernel to use updated packages.\n"
     ]
    }
   ],
   "source": [
    "pip install textblob"
   ]
  },
  {
   "cell_type": "code",
   "execution_count": 4,
   "metadata": {},
   "outputs": [],
   "source": [
    "import tweepy \n",
    "import pandas as pd\n",
    "import nltk \n",
    "from textblob import TextBlob"
   ]
  },
  {
   "cell_type": "code",
   "execution_count": 5,
   "metadata": {},
   "outputs": [],
   "source": [
    "consumer_key=\"74ORGUf77FSvzFhkD1l8yM6WX\"\n",
    "consumer_secret=\"SDRK9wssweOtdgH0ivCO2I4IWLcLbC3MPI2EfYlTrJjyWdIPte\"\n",
    "access_token=\"815946042428493824-LLTYWxJRPjnYlpG5ITPcaZNvK8OxjMA\"\n",
    "access_token_secret=\"HgJkOE6dAJ1XBlOGFvwdp0TnBuzG9MMQjXyjIlBA3JyeC\""
   ]
  },
  {
   "cell_type": "code",
   "execution_count": 6,
   "metadata": {},
   "outputs": [],
   "source": [
    "import jovian"
   ]
  },
  {
   "cell_type": "code",
   "execution_count": 7,
   "metadata": {},
   "outputs": [
    {
     "data": {
      "application/javascript": [
       "window.require && require([\"base/js/namespace\"],function(Jupyter){Jupyter.notebook.save_checkpoint()})"
      ],
      "text/plain": [
       "<IPython.core.display.Javascript object>"
      ]
     },
     "metadata": {},
     "output_type": "display_data"
    },
    {
     "name": "stdout",
     "output_type": "stream",
     "text": [
      "[jovian] Attempting to save notebook..\u001b[0m\n",
      "[jovian] Updating notebook \"akashgahlot1926/twitter-3\" on https://jovian.ai\u001b[0m\n",
      "[jovian] Uploading notebook..\u001b[0m\n",
      "[jovian] Uploading additional files...\u001b[0m\n",
      "[jovian] Committed successfully! https://jovian.ai/akashgahlot1926/twitter-3\u001b[0m\n"
     ]
    },
    {
     "data": {
      "text/plain": [
       "'https://jovian.ai/akashgahlot1926/twitter-3'"
      ]
     },
     "execution_count": 7,
     "metadata": {},
     "output_type": "execute_result"
    }
   ],
   "source": [
    "jovian.commit()"
   ]
  },
  {
   "cell_type": "code",
   "execution_count": 68,
   "metadata": {},
   "outputs": [],
   "source": [
    "auth=tweepy.OAuthHandler(consumer_key,consumer_secret)\n",
    "auth.set_access_token(access_token,access_token_secret)\n",
    "api=tweepy.API(auth)\n"
   ]
  },
  {
   "cell_type": "code",
   "execution_count": 69,
   "metadata": {},
   "outputs": [],
   "source": [
    "search_word=\"गोवर्धन पूजा \"\n",
    "date_since=\"2020-11-15\""
   ]
  },
  {
   "cell_type": "code",
   "execution_count": 70,
   "metadata": {},
   "outputs": [],
   "source": [
    "tweets=tweepy.Cursor(api.search,q=search_word,since=date_since,lang=\"en\").items(2000)"
   ]
  },
  {
   "cell_type": "code",
   "execution_count": 74,
   "metadata": {},
   "outputs": [],
   "source": [
    "df=pd.DataFrame([[tweet.text,tweet.user.screen_name] for tweet in tweets],columns=[\"Tweets\",\"Username\"])"
   ]
  },
  {
   "cell_type": "code",
   "execution_count": 75,
   "metadata": {},
   "outputs": [
    {
     "data": {
      "text/html": [
       "<div>\n",
       "<style scoped>\n",
       "    .dataframe tbody tr th:only-of-type {\n",
       "        vertical-align: middle;\n",
       "    }\n",
       "\n",
       "    .dataframe tbody tr th {\n",
       "        vertical-align: top;\n",
       "    }\n",
       "\n",
       "    .dataframe thead th {\n",
       "        text-align: right;\n",
       "    }\n",
       "</style>\n",
       "<table border=\"1\" class=\"dataframe\">\n",
       "  <thead>\n",
       "    <tr style=\"text-align: right;\">\n",
       "      <th></th>\n",
       "      <th>Tweets</th>\n",
       "      <th>Username</th>\n",
       "    </tr>\n",
       "  </thead>\n",
       "  <tbody>\n",
       "    <tr>\n",
       "      <th>0</th>\n",
       "      <td>RT @ChandanMatcha: I am the beginning, middle,...</td>\n",
       "      <td>VanillaSharma5</td>\n",
       "    </tr>\n",
       "    <tr>\n",
       "      <th>1</th>\n",
       "      <td>RT @Namomdas: This गोवर्धन पूजा bring home the...</td>\n",
       "      <td>dasisushma1</td>\n",
       "    </tr>\n",
       "    <tr>\n",
       "      <th>2</th>\n",
       "      <td>RT @GoluRaj47261365: A day of festivities and ...</td>\n",
       "      <td>VanillaSharma5</td>\n",
       "    </tr>\n",
       "    <tr>\n",
       "      <th>3</th>\n",
       "      <td>RT @sanjaybhind3: #govardhanpuja\\nUnderprivile...</td>\n",
       "      <td>Shyamkamti8</td>\n",
       "    </tr>\n",
       "    <tr>\n",
       "      <th>4</th>\n",
       "      <td>RT @Raghvendrar83: #गोवर्धन_पूजा_की_शुभकामनाएं...</td>\n",
       "      <td>SethiSailoni</td>\n",
       "    </tr>\n",
       "    <tr>\n",
       "      <th>...</th>\n",
       "      <td>...</td>\n",
       "      <td>...</td>\n",
       "    </tr>\n",
       "    <tr>\n",
       "      <th>1995</th>\n",
       "      <td>RT @VinodVe48603664: The day of the innovative...</td>\n",
       "      <td>kapila41125049</td>\n",
       "    </tr>\n",
       "    <tr>\n",
       "      <th>1996</th>\n",
       "      <td>@AbhimanyuRaohry #दिवालीपरजलाएं_ज्ञानकादीप,इस ...</td>\n",
       "      <td>kuldeep79082917</td>\n",
       "    </tr>\n",
       "    <tr>\n",
       "      <th>1997</th>\n",
       "      <td>RT @Pravinjdesai3: 🌸@HinduJagrutiOrg &amp;amp; @Sa...</td>\n",
       "      <td>dnyadav</td>\n",
       "    </tr>\n",
       "    <tr>\n",
       "      <th>1998</th>\n",
       "      <td>RT @manish__jareda: #गोवर्धन_पूजा wish you all...</td>\n",
       "      <td>dnyadav</td>\n",
       "    </tr>\n",
       "    <tr>\n",
       "      <th>1999</th>\n",
       "      <td>RT @dypriyank: On the auspicious occasion of #...</td>\n",
       "      <td>dnyadav</td>\n",
       "    </tr>\n",
       "  </tbody>\n",
       "</table>\n",
       "<p>2000 rows × 2 columns</p>\n",
       "</div>"
      ],
      "text/plain": [
       "                                                 Tweets         Username\n",
       "0     RT @ChandanMatcha: I am the beginning, middle,...   VanillaSharma5\n",
       "1     RT @Namomdas: This गोवर्धन पूजा bring home the...      dasisushma1\n",
       "2     RT @GoluRaj47261365: A day of festivities and ...   VanillaSharma5\n",
       "3     RT @sanjaybhind3: #govardhanpuja\\nUnderprivile...      Shyamkamti8\n",
       "4     RT @Raghvendrar83: #गोवर्धन_पूजा_की_शुभकामनाएं...     SethiSailoni\n",
       "...                                                 ...              ...\n",
       "1995  RT @VinodVe48603664: The day of the innovative...   kapila41125049\n",
       "1996  @AbhimanyuRaohry #दिवालीपरजलाएं_ज्ञानकादीप,इस ...  kuldeep79082917\n",
       "1997  RT @Pravinjdesai3: 🌸@HinduJagrutiOrg &amp; @Sa...          dnyadav\n",
       "1998  RT @manish__jareda: #गोवर्धन_पूजा wish you all...          dnyadav\n",
       "1999  RT @dypriyank: On the auspicious occasion of #...          dnyadav\n",
       "\n",
       "[2000 rows x 2 columns]"
      ]
     },
     "execution_count": 75,
     "metadata": {},
     "output_type": "execute_result"
    }
   ],
   "source": [
    "df"
   ]
  },
  {
   "cell_type": "code",
   "execution_count": 76,
   "metadata": {},
   "outputs": [],
   "source": [
    "def analysis(text):\n",
    "    return TextBlob(text).sentiment.polarity"
   ]
  },
  {
   "cell_type": "code",
   "execution_count": 77,
   "metadata": {},
   "outputs": [],
   "source": [
    "df[\"analysis\"]=df[\"Tweets\"].apply(analysis)"
   ]
  },
  {
   "cell_type": "code",
   "execution_count": 78,
   "metadata": {},
   "outputs": [
    {
     "data": {
      "text/html": [
       "<div>\n",
       "<style scoped>\n",
       "    .dataframe tbody tr th:only-of-type {\n",
       "        vertical-align: middle;\n",
       "    }\n",
       "\n",
       "    .dataframe tbody tr th {\n",
       "        vertical-align: top;\n",
       "    }\n",
       "\n",
       "    .dataframe thead th {\n",
       "        text-align: right;\n",
       "    }\n",
       "</style>\n",
       "<table border=\"1\" class=\"dataframe\">\n",
       "  <thead>\n",
       "    <tr style=\"text-align: right;\">\n",
       "      <th></th>\n",
       "      <th>Tweets</th>\n",
       "      <th>Username</th>\n",
       "      <th>analysis</th>\n",
       "    </tr>\n",
       "  </thead>\n",
       "  <tbody>\n",
       "    <tr>\n",
       "      <th>0</th>\n",
       "      <td>RT @ChandanMatcha: I am the beginning, middle,...</td>\n",
       "      <td>VanillaSharma5</td>\n",
       "      <td>0.00</td>\n",
       "    </tr>\n",
       "    <tr>\n",
       "      <th>1</th>\n",
       "      <td>RT @Namomdas: This गोवर्धन पूजा bring home the...</td>\n",
       "      <td>dasisushma1</td>\n",
       "      <td>0.45</td>\n",
       "    </tr>\n",
       "    <tr>\n",
       "      <th>2</th>\n",
       "      <td>RT @GoluRaj47261365: A day of festivities and ...</td>\n",
       "      <td>VanillaSharma5</td>\n",
       "      <td>0.15</td>\n",
       "    </tr>\n",
       "    <tr>\n",
       "      <th>3</th>\n",
       "      <td>RT @sanjaybhind3: #govardhanpuja\\nUnderprivile...</td>\n",
       "      <td>Shyamkamti8</td>\n",
       "      <td>0.00</td>\n",
       "    </tr>\n",
       "    <tr>\n",
       "      <th>4</th>\n",
       "      <td>RT @Raghvendrar83: #गोवर्धन_पूजा_की_शुभकामनाएं...</td>\n",
       "      <td>SethiSailoni</td>\n",
       "      <td>0.00</td>\n",
       "    </tr>\n",
       "    <tr>\n",
       "      <th>...</th>\n",
       "      <td>...</td>\n",
       "      <td>...</td>\n",
       "      <td>...</td>\n",
       "    </tr>\n",
       "    <tr>\n",
       "      <th>1995</th>\n",
       "      <td>RT @VinodVe48603664: The day of the innovative...</td>\n",
       "      <td>kapila41125049</td>\n",
       "      <td>0.50</td>\n",
       "    </tr>\n",
       "    <tr>\n",
       "      <th>1996</th>\n",
       "      <td>@AbhimanyuRaohry #दिवालीपरजलाएं_ज्ञानकादीप,इस ...</td>\n",
       "      <td>kuldeep79082917</td>\n",
       "      <td>0.60</td>\n",
       "    </tr>\n",
       "    <tr>\n",
       "      <th>1997</th>\n",
       "      <td>RT @Pravinjdesai3: 🌸@HinduJagrutiOrg &amp;amp; @Sa...</td>\n",
       "      <td>dnyadav</td>\n",
       "      <td>0.00</td>\n",
       "    </tr>\n",
       "    <tr>\n",
       "      <th>1998</th>\n",
       "      <td>RT @manish__jareda: #गोवर्धन_पूजा wish you all...</td>\n",
       "      <td>dnyadav</td>\n",
       "      <td>0.80</td>\n",
       "    </tr>\n",
       "    <tr>\n",
       "      <th>1999</th>\n",
       "      <td>RT @dypriyank: On the auspicious occasion of #...</td>\n",
       "      <td>dnyadav</td>\n",
       "      <td>0.70</td>\n",
       "    </tr>\n",
       "  </tbody>\n",
       "</table>\n",
       "<p>2000 rows × 3 columns</p>\n",
       "</div>"
      ],
      "text/plain": [
       "                                                 Tweets         Username  \\\n",
       "0     RT @ChandanMatcha: I am the beginning, middle,...   VanillaSharma5   \n",
       "1     RT @Namomdas: This गोवर्धन पूजा bring home the...      dasisushma1   \n",
       "2     RT @GoluRaj47261365: A day of festivities and ...   VanillaSharma5   \n",
       "3     RT @sanjaybhind3: #govardhanpuja\\nUnderprivile...      Shyamkamti8   \n",
       "4     RT @Raghvendrar83: #गोवर्धन_पूजा_की_शुभकामनाएं...     SethiSailoni   \n",
       "...                                                 ...              ...   \n",
       "1995  RT @VinodVe48603664: The day of the innovative...   kapila41125049   \n",
       "1996  @AbhimanyuRaohry #दिवालीपरजलाएं_ज्ञानकादीप,इस ...  kuldeep79082917   \n",
       "1997  RT @Pravinjdesai3: 🌸@HinduJagrutiOrg &amp; @Sa...          dnyadav   \n",
       "1998  RT @manish__jareda: #गोवर्धन_पूजा wish you all...          dnyadav   \n",
       "1999  RT @dypriyank: On the auspicious occasion of #...          dnyadav   \n",
       "\n",
       "      analysis  \n",
       "0         0.00  \n",
       "1         0.45  \n",
       "2         0.15  \n",
       "3         0.00  \n",
       "4         0.00  \n",
       "...        ...  \n",
       "1995      0.50  \n",
       "1996      0.60  \n",
       "1997      0.00  \n",
       "1998      0.80  \n",
       "1999      0.70  \n",
       "\n",
       "[2000 rows x 3 columns]"
      ]
     },
     "execution_count": 78,
     "metadata": {},
     "output_type": "execute_result"
    }
   ],
   "source": [
    "df"
   ]
  },
  {
   "cell_type": "code",
   "execution_count": 79,
   "metadata": {},
   "outputs": [],
   "source": [
    "def pol(value):\n",
    "    if value<0:\n",
    "        return \"negative\"\n",
    "    elif value==0:\n",
    "        return \"neutral\"\n",
    "    else:\n",
    "        return \"positive\""
   ]
  },
  {
   "cell_type": "code",
   "execution_count": 80,
   "metadata": {},
   "outputs": [],
   "source": [
    "df[\"sentiment\"]=df[\"analysis\"].apply(pol)"
   ]
  },
  {
   "cell_type": "code",
   "execution_count": 81,
   "metadata": {},
   "outputs": [
    {
     "data": {
      "text/html": [
       "<div>\n",
       "<style scoped>\n",
       "    .dataframe tbody tr th:only-of-type {\n",
       "        vertical-align: middle;\n",
       "    }\n",
       "\n",
       "    .dataframe tbody tr th {\n",
       "        vertical-align: top;\n",
       "    }\n",
       "\n",
       "    .dataframe thead th {\n",
       "        text-align: right;\n",
       "    }\n",
       "</style>\n",
       "<table border=\"1\" class=\"dataframe\">\n",
       "  <thead>\n",
       "    <tr style=\"text-align: right;\">\n",
       "      <th></th>\n",
       "      <th>Tweets</th>\n",
       "      <th>Username</th>\n",
       "      <th>analysis</th>\n",
       "      <th>sentiment</th>\n",
       "    </tr>\n",
       "  </thead>\n",
       "  <tbody>\n",
       "    <tr>\n",
       "      <th>0</th>\n",
       "      <td>RT @ChandanMatcha: I am the beginning, middle,...</td>\n",
       "      <td>VanillaSharma5</td>\n",
       "      <td>0.00</td>\n",
       "      <td>neutral</td>\n",
       "    </tr>\n",
       "    <tr>\n",
       "      <th>1</th>\n",
       "      <td>RT @Namomdas: This गोवर्धन पूजा bring home the...</td>\n",
       "      <td>dasisushma1</td>\n",
       "      <td>0.45</td>\n",
       "      <td>positive</td>\n",
       "    </tr>\n",
       "    <tr>\n",
       "      <th>2</th>\n",
       "      <td>RT @GoluRaj47261365: A day of festivities and ...</td>\n",
       "      <td>VanillaSharma5</td>\n",
       "      <td>0.15</td>\n",
       "      <td>positive</td>\n",
       "    </tr>\n",
       "    <tr>\n",
       "      <th>3</th>\n",
       "      <td>RT @sanjaybhind3: #govardhanpuja\\nUnderprivile...</td>\n",
       "      <td>Shyamkamti8</td>\n",
       "      <td>0.00</td>\n",
       "      <td>neutral</td>\n",
       "    </tr>\n",
       "    <tr>\n",
       "      <th>4</th>\n",
       "      <td>RT @Raghvendrar83: #गोवर्धन_पूजा_की_शुभकामनाएं...</td>\n",
       "      <td>SethiSailoni</td>\n",
       "      <td>0.00</td>\n",
       "      <td>neutral</td>\n",
       "    </tr>\n",
       "    <tr>\n",
       "      <th>...</th>\n",
       "      <td>...</td>\n",
       "      <td>...</td>\n",
       "      <td>...</td>\n",
       "      <td>...</td>\n",
       "    </tr>\n",
       "    <tr>\n",
       "      <th>1995</th>\n",
       "      <td>RT @VinodVe48603664: The day of the innovative...</td>\n",
       "      <td>kapila41125049</td>\n",
       "      <td>0.50</td>\n",
       "      <td>positive</td>\n",
       "    </tr>\n",
       "    <tr>\n",
       "      <th>1996</th>\n",
       "      <td>@AbhimanyuRaohry #दिवालीपरजलाएं_ज्ञानकादीप,इस ...</td>\n",
       "      <td>kuldeep79082917</td>\n",
       "      <td>0.60</td>\n",
       "      <td>positive</td>\n",
       "    </tr>\n",
       "    <tr>\n",
       "      <th>1997</th>\n",
       "      <td>RT @Pravinjdesai3: 🌸@HinduJagrutiOrg &amp;amp; @Sa...</td>\n",
       "      <td>dnyadav</td>\n",
       "      <td>0.00</td>\n",
       "      <td>neutral</td>\n",
       "    </tr>\n",
       "    <tr>\n",
       "      <th>1998</th>\n",
       "      <td>RT @manish__jareda: #गोवर्धन_पूजा wish you all...</td>\n",
       "      <td>dnyadav</td>\n",
       "      <td>0.80</td>\n",
       "      <td>positive</td>\n",
       "    </tr>\n",
       "    <tr>\n",
       "      <th>1999</th>\n",
       "      <td>RT @dypriyank: On the auspicious occasion of #...</td>\n",
       "      <td>dnyadav</td>\n",
       "      <td>0.70</td>\n",
       "      <td>positive</td>\n",
       "    </tr>\n",
       "  </tbody>\n",
       "</table>\n",
       "<p>2000 rows × 4 columns</p>\n",
       "</div>"
      ],
      "text/plain": [
       "                                                 Tweets         Username  \\\n",
       "0     RT @ChandanMatcha: I am the beginning, middle,...   VanillaSharma5   \n",
       "1     RT @Namomdas: This गोवर्धन पूजा bring home the...      dasisushma1   \n",
       "2     RT @GoluRaj47261365: A day of festivities and ...   VanillaSharma5   \n",
       "3     RT @sanjaybhind3: #govardhanpuja\\nUnderprivile...      Shyamkamti8   \n",
       "4     RT @Raghvendrar83: #गोवर्धन_पूजा_की_शुभकामनाएं...     SethiSailoni   \n",
       "...                                                 ...              ...   \n",
       "1995  RT @VinodVe48603664: The day of the innovative...   kapila41125049   \n",
       "1996  @AbhimanyuRaohry #दिवालीपरजलाएं_ज्ञानकादीप,इस ...  kuldeep79082917   \n",
       "1997  RT @Pravinjdesai3: 🌸@HinduJagrutiOrg &amp; @Sa...          dnyadav   \n",
       "1998  RT @manish__jareda: #गोवर्धन_पूजा wish you all...          dnyadav   \n",
       "1999  RT @dypriyank: On the auspicious occasion of #...          dnyadav   \n",
       "\n",
       "      analysis sentiment  \n",
       "0         0.00   neutral  \n",
       "1         0.45  positive  \n",
       "2         0.15  positive  \n",
       "3         0.00   neutral  \n",
       "4         0.00   neutral  \n",
       "...        ...       ...  \n",
       "1995      0.50  positive  \n",
       "1996      0.60  positive  \n",
       "1997      0.00   neutral  \n",
       "1998      0.80  positive  \n",
       "1999      0.70  positive  \n",
       "\n",
       "[2000 rows x 4 columns]"
      ]
     },
     "execution_count": 81,
     "metadata": {},
     "output_type": "execute_result"
    }
   ],
   "source": [
    "df"
   ]
  },
  {
   "cell_type": "code",
   "execution_count": 82,
   "metadata": {},
   "outputs": [],
   "source": [
    "import matplotlib.pyplot as plt"
   ]
  },
  {
   "cell_type": "code",
   "execution_count": 83,
   "metadata": {},
   "outputs": [],
   "source": [
    "value=df.sentiment.value_counts()"
   ]
  },
  {
   "cell_type": "code",
   "execution_count": 84,
   "metadata": {},
   "outputs": [
    {
     "data": {
      "text/plain": [
       "positive    1625\n",
       "neutral      290\n",
       "negative      85\n",
       "Name: sentiment, dtype: int64"
      ]
     },
     "execution_count": 84,
     "metadata": {},
     "output_type": "execute_result"
    }
   ],
   "source": [
    "value"
   ]
  },
  {
   "cell_type": "code",
   "execution_count": 85,
   "metadata": {},
   "outputs": [
    {
     "data": {
      "image/png": "[encoded data removed]",
      "text/plain": [
       "<Figure size 432x288 with 1 Axes>"
      ]
     },
     "metadata": {},
     "output_type": "display_data"
    }
   ],
   "source": [
    "plt.pie(value.values,labels=value.index,autopct=\"%1.1f%%\",radius=1.5);\n",
    "plt.legend(value.index,bbox_to_anchor=(1.35, 1),ncol=1);"
   ]
  },
  {
   "cell_type": "code",
   "execution_count": null,
   "metadata": {},
   "outputs": [
    {
     "data": {
      "application/javascript": [
       "window.require && require([\"base/js/namespace\"],function(Jupyter){Jupyter.notebook.save_checkpoint()})"
      ],
      "text/plain": [
       "<IPython.core.display.Javascript object>"
      ]
     },
     "metadata": {},
     "output_type": "display_data"
    },
    {
     "name": "stdout",
     "output_type": "stream",
     "text": [
      "[jovian] Attempting to save notebook..\u001b[0m\n"
     ]
    }
   ],
   "source": [
    "jovian.commit()"
   ]
  },
  {
   "cell_type": "code",
   "execution_count": 72,
   "metadata": {},
   "outputs": [
    {
     "data": {
      "text/plain": [
       "Status(_api=<tweepy.api.API object at 0x7f269398c6d0>, _json={'created_at': 'Sun Nov 15 07:48:45 +0000 2020', 'id': 1327881206944370688, 'id_str': '1327881206944370688', 'text': 'hello tweepy', 'truncated': False, 'entities': {'hashtags': [], 'symbols': [], 'user_mentions': [], 'urls': []}, 'source': '', 'in_reply_to_status_id': None, 'in_reply_to_status_id_str': None, 'in_reply_to_user_id': None, 'in_reply_to_user_id_str': None, 'in_reply_to_screen_name': None, 'user': {'id': 815946042428493824, 'id_str': '815946042428493824', 'name': 'Akash Gahlot', 'screen_name': 'akashgahlot17', 'location': 'Meerut', 'description': '', 'url': None, 'entities': {'description': {'urls': []}}, 'protected': False, 'followers_count': 5, 'friends_count': 218, 'listed_count': 0, 'created_at': 'Mon Jan 02 15:41:10 +0000 2017', 'favourites_count': 67, 'utc_offset': None, 'time_zone': None, 'geo_enabled': True, 'verified': False, 'statuses_count': 17, 'lang': None, 'contributors_enabled': False, 'is_translator': False, 'is_translation_enabled': False, 'profile_background_color': 'F5F8FA', 'profile_background_image_url': None, 'profile_background_image_url_https': None, 'profile_background_tile': False, 'profile_image_url': 'http://pbs.twimg.com/profile_images/1219157645686214657/UvcJ6WVa_normal.jpg', 'profile_image_url_https': 'https://pbs.twimg.com/profile_images/1219157645686214657/UvcJ6WVa_normal.jpg', 'profile_link_color': '1DA1F2', 'profile_sidebar_border_color': 'C0DEED', 'profile_sidebar_fill_color': 'DDEEF6', 'profile_text_color': '333333', 'profile_use_background_image': True, 'has_extended_profile': False, 'default_profile': True, 'default_profile_image': False, 'following': False, 'follow_request_sent': False, 'notifications': False, 'translator_type': 'none'}, 'geo': None, 'coordinates': None, 'place': None, 'contributors': None, 'is_quote_status': False, 'retweet_count': 0, 'favorite_count': 0, 'favorited': False, 'retweeted': False, 'lang': 'en'}, created_at=datetime.datetime(2020, 11, 15, 7, 48, 45), id=1327881206944370688, id_str='1327881206944370688', text='hello tweepy', truncated=False, entities={'hashtags': [], 'symbols': [], 'user_mentions': [], 'urls': []}, source='', source_url=None, in_reply_to_status_id=None, in_reply_to_status_id_str=None, in_reply_to_user_id=None, in_reply_to_user_id_str=None, in_reply_to_screen_name=None, author=User(_api=<tweepy.api.API object at 0x7f269398c6d0>, _json={'id': 815946042428493824, 'id_str': '815946042428493824', 'name': 'Akash Gahlot', 'screen_name': 'akashgahlot17', 'location': 'Meerut', 'description': '', 'url': None, 'entities': {'description': {'urls': []}}, 'protected': False, 'followers_count': 5, 'friends_count': 218, 'listed_count': 0, 'created_at': 'Mon Jan 02 15:41:10 +0000 2017', 'favourites_count': 67, 'utc_offset': None, 'time_zone': None, 'geo_enabled': True, 'verified': False, 'statuses_count': 17, 'lang': None, 'contributors_enabled': False, 'is_translator': False, 'is_translation_enabled': False, 'profile_background_color': 'F5F8FA', 'profile_background_image_url': None, 'profile_background_image_url_https': None, 'profile_background_tile': False, 'profile_image_url': 'http://pbs.twimg.com/profile_images/1219157645686214657/UvcJ6WVa_normal.jpg', 'profile_image_url_https': 'https://pbs.twimg.com/profile_images/1219157645686214657/UvcJ6WVa_normal.jpg', 'profile_link_color': '1DA1F2', 'profile_sidebar_border_color': 'C0DEED', 'profile_sidebar_fill_color': 'DDEEF6', 'profile_text_color': '333333', 'profile_use_background_image': True, 'has_extended_profile': False, 'default_profile': True, 'default_profile_image': False, 'following': False, 'follow_request_sent': False, 'notifications': False, 'translator_type': 'none'}, id=815946042428493824, id_str='815946042428493824', name='Akash Gahlot', screen_name='akashgahlot17', location='Meerut', description='', url=None, entities={'description': {'urls': []}}, protected=False, followers_count=5, friends_count=218, listed_count=0, created_at=datetime.datetime(2017, 1, 2, 15, 41, 10), favourites_count=67, utc_offset=None, time_zone=None, geo_enabled=True, verified=False, statuses_count=17, lang=None, contributors_enabled=False, is_translator=False, is_translation_enabled=False, profile_background_color='F5F8FA', profile_background_image_url=None, profile_background_image_url_https=None, profile_background_tile=False, profile_image_url='http://pbs.twimg.com/profile_images/1219157645686214657/UvcJ6WVa_normal.jpg', profile_image_url_https='https://pbs.twimg.com/profile_images/1219157645686214657/UvcJ6WVa_normal.jpg', profile_link_color='1DA1F2', profile_sidebar_border_color='C0DEED', profile_sidebar_fill_color='DDEEF6', profile_text_color='333333', profile_use_background_image=True, has_extended_profile=False, default_profile=True, default_profile_image=False, following=False, follow_request_sent=False, notifications=False, translator_type='none'), user=User(_api=<tweepy.api.API object at 0x7f269398c6d0>, _json={'id': 815946042428493824, 'id_str': '815946042428493824', 'name': 'Akash Gahlot', 'screen_name': 'akashgahlot17', 'location': 'Meerut', 'description': '', 'url': None, 'entities': {'description': {'urls': []}}, 'protected': False, 'followers_count': 5, 'friends_count': 218, 'listed_count': 0, 'created_at': 'Mon Jan 02 15:41:10 +0000 2017', 'favourites_count': 67, 'utc_offset': None, 'time_zone': None, 'geo_enabled': True, 'verified': False, 'statuses_count': 17, 'lang': None, 'contributors_enabled': False, 'is_translator': False, 'is_translation_enabled': False, 'profile_background_color': 'F5F8FA', 'profile_background_image_url': None, 'profile_background_image_url_https': None, 'profile_background_tile': False, 'profile_image_url': 'http://pbs.twimg.com/profile_images/1219157645686214657/UvcJ6WVa_normal.jpg', 'profile_image_url_https': 'https://pbs.twimg.com/profile_images/1219157645686214657/UvcJ6WVa_normal.jpg', 'profile_link_color': '1DA1F2', 'profile_sidebar_border_color': 'C0DEED', 'profile_sidebar_fill_color': 'DDEEF6', 'profile_text_color': '333333', 'profile_use_background_image': True, 'has_extended_profile': False, 'default_profile': True, 'default_profile_image': False, 'following': False, 'follow_request_sent': False, 'notifications': False, 'translator_type': 'none'}, id=815946042428493824, id_str='815946042428493824', name='Akash Gahlot', screen_name='akashgahlot17', location='Meerut', description='', url=None, entities={'description': {'urls': []}}, protected=False, followers_count=5, friends_count=218, listed_count=0, created_at=datetime.datetime(2017, 1, 2, 15, 41, 10), favourites_count=67, utc_offset=None, time_zone=None, geo_enabled=True, verified=False, statuses_count=17, lang=None, contributors_enabled=False, is_translator=False, is_translation_enabled=False, profile_background_color='F5F8FA', profile_background_image_url=None, profile_background_image_url_https=None, profile_background_tile=False, profile_image_url='http://pbs.twimg.com/profile_images/1219157645686214657/UvcJ6WVa_normal.jpg', profile_image_url_https='https://pbs.twimg.com/profile_images/1219157645686214657/UvcJ6WVa_normal.jpg', profile_link_color='1DA1F2', profile_sidebar_border_color='C0DEED', profile_sidebar_fill_color='DDEEF6', profile_text_color='333333', profile_use_background_image=True, has_extended_profile=False, default_profile=True, default_profile_image=False, following=False, follow_request_sent=False, notifications=False, translator_type='none'), geo=None, coordinates=None, place=None, contributors=None, is_quote_status=False, retweet_count=0, favorite_count=0, favorited=False, retweeted=False, lang='en')"
      ]
     },
     "execution_count": 72,
     "metadata": {},
     "output_type": "execute_result"
    }
   ],
   "source": [
    "api.update_status(\"hello tweepy\")"
   ]
  },
  {
   "cell_type": "code",
   "execution_count": 73,
   "metadata": {},
   "outputs": [
    {
     "data": {
      "text/plain": [
       "Status(_api=<tweepy.api.API object at 0x7f269398c6d0>, _json={'created_at': 'Sun Nov 15 07:52:29 +0000 2020', 'id': 1327882147970093056, 'id_str': '1327882147970093056', 'text': 'hello tweepy, this tweet is posted by twitter api', 'truncated': False, 'entities': {'hashtags': [], 'symbols': [], 'user_mentions': [], 'urls': []}, 'source': '', 'in_reply_to_status_id': None, 'in_reply_to_status_id_str': None, 'in_reply_to_user_id': None, 'in_reply_to_user_id_str': None, 'in_reply_to_screen_name': None, 'user': {'id': 815946042428493824, 'id_str': '815946042428493824', 'name': 'Akash Gahlot', 'screen_name': 'akashgahlot17', 'location': 'Meerut', 'description': '', 'url': None, 'entities': {'description': {'urls': []}}, 'protected': False, 'followers_count': 5, 'friends_count': 218, 'listed_count': 0, 'created_at': 'Mon Jan 02 15:41:10 +0000 2017', 'favourites_count': 67, 'utc_offset': None, 'time_zone': None, 'geo_enabled': True, 'verified': False, 'statuses_count': 17, 'lang': None, 'contributors_enabled': False, 'is_translator': False, 'is_translation_enabled': False, 'profile_background_color': 'F5F8FA', 'profile_background_image_url': None, 'profile_background_image_url_https': None, 'profile_background_tile': False, 'profile_image_url': 'http://pbs.twimg.com/profile_images/1219157645686214657/UvcJ6WVa_normal.jpg', 'profile_image_url_https': 'https://pbs.twimg.com/profile_images/1219157645686214657/UvcJ6WVa_normal.jpg', 'profile_link_color': '1DA1F2', 'profile_sidebar_border_color': 'C0DEED', 'profile_sidebar_fill_color': 'DDEEF6', 'profile_text_color': '333333', 'profile_use_background_image': True, 'has_extended_profile': False, 'default_profile': True, 'default_profile_image': False, 'following': False, 'follow_request_sent': False, 'notifications': False, 'translator_type': 'none'}, 'geo': None, 'coordinates': None, 'place': None, 'contributors': None, 'is_quote_status': False, 'retweet_count': 0, 'favorite_count': 0, 'favorited': False, 'retweeted': False, 'lang': 'en'}, created_at=datetime.datetime(2020, 11, 15, 7, 52, 29), id=1327882147970093056, id_str='1327882147970093056', text='hello tweepy, this tweet is posted by twitter api', truncated=False, entities={'hashtags': [], 'symbols': [], 'user_mentions': [], 'urls': []}, source='', source_url=None, in_reply_to_status_id=None, in_reply_to_status_id_str=None, in_reply_to_user_id=None, in_reply_to_user_id_str=None, in_reply_to_screen_name=None, author=User(_api=<tweepy.api.API object at 0x7f269398c6d0>, _json={'id': 815946042428493824, 'id_str': '815946042428493824', 'name': 'Akash Gahlot', 'screen_name': 'akashgahlot17', 'location': 'Meerut', 'description': '', 'url': None, 'entities': {'description': {'urls': []}}, 'protected': False, 'followers_count': 5, 'friends_count': 218, 'listed_count': 0, 'created_at': 'Mon Jan 02 15:41:10 +0000 2017', 'favourites_count': 67, 'utc_offset': None, 'time_zone': None, 'geo_enabled': True, 'verified': False, 'statuses_count': 17, 'lang': None, 'contributors_enabled': False, 'is_translator': False, 'is_translation_enabled': False, 'profile_background_color': 'F5F8FA', 'profile_background_image_url': None, 'profile_background_image_url_https': None, 'profile_background_tile': False, 'profile_image_url': 'http://pbs.twimg.com/profile_images/1219157645686214657/UvcJ6WVa_normal.jpg', 'profile_image_url_https': 'https://pbs.twimg.com/profile_images/1219157645686214657/UvcJ6WVa_normal.jpg', 'profile_link_color': '1DA1F2', 'profile_sidebar_border_color': 'C0DEED', 'profile_sidebar_fill_color': 'DDEEF6', 'profile_text_color': '333333', 'profile_use_background_image': True, 'has_extended_profile': False, 'default_profile': True, 'default_profile_image': False, 'following': False, 'follow_request_sent': False, 'notifications': False, 'translator_type': 'none'}, id=815946042428493824, id_str='815946042428493824', name='Akash Gahlot', screen_name='akashgahlot17', location='Meerut', description='', url=None, entities={'description': {'urls': []}}, protected=False, followers_count=5, friends_count=218, listed_count=0, created_at=datetime.datetime(2017, 1, 2, 15, 41, 10), favourites_count=67, utc_offset=None, time_zone=None, geo_enabled=True, verified=False, statuses_count=17, lang=None, contributors_enabled=False, is_translator=False, is_translation_enabled=False, profile_background_color='F5F8FA', profile_background_image_url=None, profile_background_image_url_https=None, profile_background_tile=False, profile_image_url='http://pbs.twimg.com/profile_images/1219157645686214657/UvcJ6WVa_normal.jpg', profile_image_url_https='https://pbs.twimg.com/profile_images/1219157645686214657/UvcJ6WVa_normal.jpg', profile_link_color='1DA1F2', profile_sidebar_border_color='C0DEED', profile_sidebar_fill_color='DDEEF6', profile_text_color='333333', profile_use_background_image=True, has_extended_profile=False, default_profile=True, default_profile_image=False, following=False, follow_request_sent=False, notifications=False, translator_type='none'), user=User(_api=<tweepy.api.API object at 0x7f269398c6d0>, _json={'id': 815946042428493824, 'id_str': '815946042428493824', 'name': 'Akash Gahlot', 'screen_name': 'akashgahlot17', 'location': 'Meerut', 'description': '', 'url': None, 'entities': {'description': {'urls': []}}, 'protected': False, 'followers_count': 5, 'friends_count': 218, 'listed_count': 0, 'created_at': 'Mon Jan 02 15:41:10 +0000 2017', 'favourites_count': 67, 'utc_offset': None, 'time_zone': None, 'geo_enabled': True, 'verified': False, 'statuses_count': 17, 'lang': None, 'contributors_enabled': False, 'is_translator': False, 'is_translation_enabled': False, 'profile_background_color': 'F5F8FA', 'profile_background_image_url': None, 'profile_background_image_url_https': None, 'profile_background_tile': False, 'profile_image_url': 'http://pbs.twimg.com/profile_images/1219157645686214657/UvcJ6WVa_normal.jpg', 'profile_image_url_https': 'https://pbs.twimg.com/profile_images/1219157645686214657/UvcJ6WVa_normal.jpg', 'profile_link_color': '1DA1F2', 'profile_sidebar_border_color': 'C0DEED', 'profile_sidebar_fill_color': 'DDEEF6', 'profile_text_color': '333333', 'profile_use_background_image': True, 'has_extended_profile': False, 'default_profile': True, 'default_profile_image': False, 'following': False, 'follow_request_sent': False, 'notifications': False, 'translator_type': 'none'}, id=815946042428493824, id_str='815946042428493824', name='Akash Gahlot', screen_name='akashgahlot17', location='Meerut', description='', url=None, entities={'description': {'urls': []}}, protected=False, followers_count=5, friends_count=218, listed_count=0, created_at=datetime.datetime(2017, 1, 2, 15, 41, 10), favourites_count=67, utc_offset=None, time_zone=None, geo_enabled=True, verified=False, statuses_count=17, lang=None, contributors_enabled=False, is_translator=False, is_translation_enabled=False, profile_background_color='F5F8FA', profile_background_image_url=None, profile_background_image_url_https=None, profile_background_tile=False, profile_image_url='http://pbs.twimg.com/profile_images/1219157645686214657/UvcJ6WVa_normal.jpg', profile_image_url_https='https://pbs.twimg.com/profile_images/1219157645686214657/UvcJ6WVa_normal.jpg', profile_link_color='1DA1F2', profile_sidebar_border_color='C0DEED', profile_sidebar_fill_color='DDEEF6', profile_text_color='333333', profile_use_background_image=True, has_extended_profile=False, default_profile=True, default_profile_image=False, following=False, follow_request_sent=False, notifications=False, translator_type='none'), geo=None, coordinates=None, place=None, contributors=None, is_quote_status=False, retweet_count=0, favorite_count=0, favorited=False, retweeted=False, lang='en')"
      ]
     },
     "execution_count": 73,
     "metadata": {},
     "output_type": "execute_result"
    }
   ],
   "source": [
    "api.update_status(\"hello tweepy, this tweet is posted by twitter api\")"
   ]
  },
  {
   "cell_type": "code",
   "execution_count": null,
   "metadata": {},
   "outputs": [],
   "source": []
  }
 ],
 "metadata": {
  "kernelspec": {
   "display_name": "Python 3",
   "language": "python",
   "name": "python3"
  },
  "language_info": {
   "codemirror_mode": {
    "name": "ipython",
    "version": 3
   },
   "file_extension": ".py",
   "mimetype": "text/x-python",
   "name": "python",
   "nbconvert_exporter": "python",
   "pygments_lexer": "ipython3",
   "version": "3.8.6"
  }
 },
 "nbformat": 4,
 "nbformat_minor": 2
}
